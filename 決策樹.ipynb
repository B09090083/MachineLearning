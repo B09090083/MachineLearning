{
  "nbformat": 4,
  "nbformat_minor": 0,
  "metadata": {
    "colab": {
      "provenance": []
    },
    "kernelspec": {
      "name": "python3",
      "display_name": "Python 3"
    },
    "language_info": {
      "name": "python"
    }
  },
  "cells": [
    {
      "cell_type": "code",
      "execution_count": null,
      "metadata": {
        "colab": {
          "base_uri": "https://localhost:8080/"
        },
        "id": "TCdUqxSJctXa",
        "outputId": "52c4d21a-b951-482c-9ec5-cdeb681cece8"
      },
      "outputs": [
        {
          "output_type": "stream",
          "name": "stdout",
          "text": [
            "訓練資料正確率: 1.0\n",
            "測試資料正確率: 0.9111111111111111\n",
            "標準答案: [2 0 2 1 1 0 1 0 0 0 1 0 1 1 2 1 2 1 2 2 0 2 2 0 2 0 2 1 2 1 2 1 1 1 1 1 2\n",
            " 0 1 2 1 0 2 1 2]\n",
            "預測答案: [2 0 2 1 1 0 1 0 0 0 1 0 1 2 2 1 2 1 2 2 0 1 2 0 2 0 2 1 1 1 2 1 1 2 1 1 2\n",
            " 0 1 2 1 0 2 1 2]\n"
          ]
        }
      ],
      "source": [
        "from sklearn import tree\n",
        "from sklearn.datasets import load_iris\n",
        "from sklearn.model_selection import train_test_split\n",
        "\n",
        "# 讀入鳶尾花資料\n",
        "iris = load_iris()\n",
        "iris_data = iris.data\n",
        "iris_label = iris.target\n",
        "\n",
        "# 切分訓練與測試資料\n",
        "train_data, test_data, train_label, test_label = train_test_split(iris_data, iris_label, test_size = 0.3)\n",
        "\n",
        "# 建立分類器\n",
        "clf = tree.DecisionTreeClassifier()\n",
        "iris_clf = clf.fit(train_data, train_label)\n",
        "\n",
        "print(\"訓練資料正確率:\",clf.score(train_data,train_label)) # 訓練資料正確率\n",
        "print(\"測試資料正確率:\",clf.score(test_data, test_label)) # 測試資料正確率\n",
        "\n",
        "predict=clf.predict(test_data) # 預測\n",
        "print(\"標準答案:\",test_label) # 標準答案\n",
        "print(\"預測答案:\",predict) # 預測答案"
      ]
    },
    {
      "cell_type": "code",
      "source": [
        "import graphviz \n",
        "dot_data = tree.export_graphviz(clf, out_file=None) \n",
        "graph = graphviz.Source(dot_data) \n",
        "graph.render(\"iris\") #將結果存成pdf檔案"
      ],
      "metadata": {
        "id": "aiE1BebIdN1u",
        "outputId": "62a67c2b-68bd-42b8-b245-a50d10e8ead4",
        "colab": {
          "base_uri": "https://localhost:8080/",
          "height": 35
        }
      },
      "execution_count": null,
      "outputs": [
        {
          "output_type": "execute_result",
          "data": {
            "text/plain": [
              "'iris.pdf'"
            ],
            "application/vnd.google.colaboratory.intrinsic+json": {
              "type": "string"
            }
          },
          "metadata": {},
          "execution_count": 2
        }
      ]
    }
  ]
}